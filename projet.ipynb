{
 "cells": [
  {
   "cell_type": "markdown",
   "metadata": {},
   "source": [
    "# Projet EP\n",
    "## 1 - Nettoyage des données"
   ]
  },
  {
   "cell_type": "markdown",
   "metadata": {},
   "source": [
    "Affichage première ligne des données. "
   ]
  },
  {
   "cell_type": "code",
   "execution_count": 14,
   "metadata": {},
   "outputs": [
    {
     "name": "stdout",
     "output_type": "stream",
     "text": [
      "   Deg  Mo   GO  CO  CR   P1  PW       T3P  T1  Ready\n",
      "0    0   1  0.0   0   0  0.0   0  111.3349  20      0\n",
      "1    0   1  0.0   0   0  0.0   0  111.3349  20      0\n",
      "2    0   1  0.0   0   0  0.0   0  111.3349  20      0\n",
      "3    0   1  0.0   0   0  0.0   0  111.3349  20      0\n",
      "4    0   1  0.0   0   0  0.0   0  111.3349  20      0\n"
     ]
    }
   ],
   "source": [
    "import pandas as pd\n",
    "import matplotlib.pyplot as plt\n",
    "import seaborn as sns\n",
    "import numpy as np\n",
    "\n",
    "# Chemin vers le fichier Excel\n",
    "file_path = '/Users/benjamincordebar/Desktop/2A/S8/EP/Projet/Copie de Dataset-M.xlsx'\n",
    "\n",
    "# Chargement du fichier\n",
    "try:\n",
    "    data = pd.read_excel(file_path)\n",
    "    print(data.head())  # Afficher les premières lignes pour inspecter les données\n",
    "except Exception as e:\n",
    "  