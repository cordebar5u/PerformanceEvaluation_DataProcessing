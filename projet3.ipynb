{
 "cells": [
  {
   "cell_type": "markdown",
   "metadata": {},
   "source": [
    "## Modèle avec Réseau de Neurones Multicouches (MLP) avec un autre DataSet de données nettoyées"
   ]
  },
  {
   "cell_type": "code",
   "execution_count": 2,
   "metadata": {},
   "outputs": [
    {
     "name": "stdout",
     "output_type": "stream",
     "text": [
      "   Deg  Mo    GO  CO  CR    P1  PW       T3P  T1  Ready  Temps\n",
      "0    0   2  52.6  34  36  1.02  43  392.4298  39      1   5571\n",
      "1    0   2  52.4  33  36  0.98  43  385.4558  39      1   5572\n",
      "2    0   2  51.4  34  36  1.02  43  392.4298  40      1   5573\n",
      "3    0   2  51.3  33  36  1.00  42  385.4558  41      1   5574\n",
      "4    0   2  53.5  35  38  1.02  45  399.8960  41      1   5575\n",
      "Epoch 1/10\n"
     ]
    },
    {
     "name": "stderr",
     "output_type": "stream",
     "text": [
      "/Users/benjamincordebar/.pyenv/versions/3.12.2/lib/python3.12/site-packages/keras/src/layers/core/dense.py:87: UserWarning: Do not pass an `input_shape`/`input_dim` argument to a layer. When using Sequential models, prefer using an `Input(shape)` object as the first layer in the model instead.\n",
      "  super().__init__(activity_regularizer=activity_regularizer, **kwargs)\n"
     ]
    },
    {
     "name": "stdout",
     "output_type": "stream",
     "text": [
      "\u001b[1m3381/3381\u001b[0m \u001b[32m━━━━━━━━━━━━━━━━━━━━\u001b[0m\u001b[37m\u001b[0m \u001b[1m5s\u001b[0m 1ms/step - loss: 0.0171\n",
      "Epoch 2/10\n",
      "\u001b[1m3381/3381\u001b[0m \u001b[32m━━━━━━━━━━━━━━━━━━━━\u001b[0m\u001b[37m\u001b[0m \u001b[1m4s\u001b[0m 1ms/step - loss: 0.0122\n",
      "Epoch 3/10\n",
      "\u001b[1m3381/3381\u001b[0m \u001b[32m━━━━━━━━━━━━━━━━━━━━\u001b[0m\u001b[37m\u001b[0m \u001b[1m4s\u001b[0m 1ms/step - loss: 0.0118\n",
      "Epoch 4/10\n",
      "\u001b[1m3381/3381\u001b[0m \u001b[32m━━━━━━━━━━━━━━━━━━━━\u001b[0m\u001b[37m\u001b[0m \u001b[1m4s\u001b[0m 1ms/step - loss: 0.0113\n",
      "Epoch 5/10\n",
      "\u001b[1m3381/3381\u001b[0m \u001b[32m━━━━━━━━━━━━━━━━━━━━\u001b[0m\u001b[37m\u001b[0m \u001b[1m3s\u001b[0m 955us/step - loss: 0.0114\n",
      "Epoch 6/10\n",
      "\u001b[1m3381/3381\u001b[0m \u001b[32m━━━━━━━━━━━━━━━━━━━━\u001b[0m\u001b[37m\u001b[0m \u001b[1m4s\u001b[0m 1ms/step - loss: 0.0110\n",
      "Epoch 7/10\n",
      "\u001b[1m3381/3381\u001b[0m \u001b[32m━━━━━━━━━━━━━━━━━━━━\u001b[0m\u001b[37m\u001b[0m \u001b[1m4s\u001b[0m 1ms/step - loss: 0.0111\n",
      "Epoch 8/10\n",
      "\u001b[1m3381/3381\u001b[0m \u001b[32m━━━━━━━━━━━━━━━━━━━━\u001b[0m\u001b[37m\u001b[0m \u001b[1m3s\u001b[0m 898us/step - loss: 0.0112\n",
      "Epoch 9/10\n",
      "\u001b[1m3381/3381\u001b[0m \u001b[32m━━━━━━━━━━━━━━━━━━━━\u001b[0m\u001b[37m\u001b[0m \u001b[1m3s\u001b[0m 741us/step - loss: 0.0112\n",
      "Epoch 10/10\n",
      "\u001b[1m3381/3381\u001b[0m \u001b[32m━━━━━━━━━━━━━━━━━━━━\u001b[0m\u001b[37m\u001b[0m \u001b[1m3s\u001b[0m 755us/step - loss: 0.0110\n",
      "\u001b[1m453/453\u001b[0m \u001b[32m━━━━━━━━━━━━━━━━━━━━\u001b[0m\u001b[37m\u001b[0m \u001b[1m1s\u001b[0m 1ms/step\n",
      "Mean Squared Error (MSE): 0.011143453300646297\n",
      "Root Mean Squared Error (RMSE): 0.1055625563381557\n",
      "R-squared (Coefficient of Determination): 0.7413442551406985\n"
     ]
    }
   ],
   "source": [
    "import pandas as pd\n",
    "import matplotlib.pyplot as plt\n",
    "import seaborn as sns\n",
    "import numpy as np\n",
    "from sklearn.model_selection import train_test_split\n",
    "from keras.models import Sequential\n",
    "from keras.layers import Dense\n",
    "from sklearn.metrics import mean_squared_error, r2_score\n",
    "from sklearn.preprocessing import MinMaxScaler\n",
    "\n",
    "# Chemin vers le fichier Excel\n",
    "file_path = '/Users/benjamincordebar/Desktop/2A/S8/EP/Projet/EP/donnees_propres_2.xlsx'\n",
    "\n",
    "# Chargement du fichier\n",
    "try:\n",
    "    df = pd.read_excel(file_path)\n",
    "    print(df.head())  # Afficher les premières lignes pour inspecter les données\n",
    "except Exception as e:\n",
    "    print(\"Erreur lors du chargement du fichier:\", e)\n",
    "\n",
    "# Sélectionner les colonnes nécessaires\n",
    "X5 = df[['CO', 'Mo', 'CR', 'Deg']]\n",
    "y5 = df['P1']\n",
    "\n",
    "# Normalisation des caractéristiques\n",
    "scaler = MinMaxScaler()\n",
    "X5_scaled = scaler.fit_transform(X5)\n",
    "\n",
    "# Diviser les données normalisées en ensemble d'entraînement et de test\n",
    "X5_train, X5_test, y5_train, y5_test = train_test_split(X5_scaled, y5, test_size=0.3, random_state=42)\n",
    "\n",
    "# Créer le modèle\n",
    "model5 = Sequential()\n",
    "model5.add(Dense(20, input_dim=4, activation='relu'))  # Couche d'entrée + couche cachée avec 20 neurones\n",
    "model5.add(Dense(20, activation='relu'))  # Couche cachée avec 20 neurones\n",
    "model5.add(Dense(1))  # Couche de sortie\n",
    "\n",
    "# Compiler le modèle\n",
    "model5.compile(loss='mean_squared_error', optimizer='adam')\n",
    "\n",
    "# Entraîner le modèle\n",
    "model5.fit(X5_train, y5_train, epochs=10, batch_size=10)   # 10 epochs\n",
    "\n",
    "# Prédictions\n",
    "predictions5 = model5.predict(X5_test)\n",
    "predictions5 = predictions5.flatten()  # ou predictions.reshape(-1)\n",
    "\n",
    "# Vérifier et ajuster y_test si nécessaire\n",
    "y5_test = y5_test.values.flatten() if isinstance(y5_test, (pd.Series, pd.DataFrame)) else y5_test\n",
    "\n",
    "# MSE \n",
    "mse5 = mean_squared_error(y5_test, predictions5)\n",
    "print(\"Mean Squared Error (MSE):\", mse5)\n",
    "\n",
    "# Calculer RMSE\n",
    "rmse5 = np.sqrt(np.mean((predictions5 - y5_test)**2))\n",
    "print(\"Root Mean Squared Error (RMSE):\", rmse5)\n",
    "\n",
    "# R-squared (Coefficient of Determination)\n",
    "r_squared5 = r2_score(y5_test, predictions5)\n",
    "print(\"R-squared (Coefficient of Determination):\", r_squared5)\n"
   ]
  },
  {
   "cell_type": "markdown",
   "metadata": {},
   "source": [
    "Nous retrouvons les mêmes résultats qu'avec le premier jeu de données nettoyées. "
   ]
  }
 ],
 "metadata": {
  "kernelspec": {
   "display_name": "Python 3",
   "language": "python",
   "name": "python3"
  },
  "language_info": {
   "codemirror_mode": {
    "name": "ipython",
    "version": 3
   },
   "file_extension": ".py",
   "mimetype": "text/x-python",
   "name": "python",
   "nbconvert_exporter": "python",
   "pygments_lexer": "ipython3",
   "version": "3.12.2"
  }
 },
 "nbformat": 4,
 "nbformat_minor": 2
}
